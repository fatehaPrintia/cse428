{
  "nbformat": 4,
  "nbformat_minor": 0,
  "metadata": {
    "colab": {
      "provenance": []
    },
    "kernelspec": {
      "name": "python3",
      "display_name": "Python 3"
    },
    "language_info": {
      "name": "python"
    }
  },
  "cells": [
    {
      "cell_type": "code",
      "execution_count": null,
      "metadata": {
        "id": "NMW64Wl8HP6Y"
      },
      "outputs": [],
      "source": [
        "import numpy as np\n",
        "import pandas as pd\n",
        "import glob\n",
        "from skimage.io import imread\n",
        "from skimage import io\n",
        "from skimage.color import gray2rgb\n",
        "import matplotlib.pyplot as plt\n",
        "from sklearn.preprocessing import LabelEncoder\n",
        "from sklearn import datasets, preprocessing, linear_model\n",
        "from sklearn.model_selection import train_test_split\n",
        "from sklearn.preprocessing import MinMaxScaler\n",
        "from sklearn.metrics import confusion_matrix, classification_report\n",
        "from mlxtend.plotting import plot_confusion_matrix"
      ]
    },
    {
      "cell_type": "code",
      "source": [
        "!unzip -q 'Group_6.zip'"
      ],
      "metadata": {
        "id": "mCWZnnF8jPOz",
        "colab": {
          "base_uri": "https://localhost:8080/"
        },
        "outputId": "69f6014f-9989-4945-cf39-c2a26b327973"
      },
      "execution_count": null,
      "outputs": [
        {
          "output_type": "stream",
          "name": "stdout",
          "text": [
            "replace Group_6/.DS_Store? [y]es, [n]o, [A]ll, [N]one, [r]ename: "
          ]
        }
      ]
    },
    {
      "cell_type": "code",
      "source": [
        "def convert_to_csv(path_to_dataset):\n",
        "    image_paths = glob.glob(path_to_dataset + '/*/*/*.JPEG') #retrieve a list of file paths that match the pattern\n",
        "\n",
        "\n",
        "    train_imgs = []\n",
        "    test_imgs = []\n",
        "\n",
        "    for image_path in image_paths:\n",
        "        image = imread(image_path) #loads the image as a NumPy array.\n",
        "        if image.shape[-1] != 3:\n",
        "            image = gray2rgb(image) #If the image is not already a color image then convert it to an RGB image\n",
        "        if image_path.split('/')[-3] == 'train':\n",
        "            train_imgs.append(image.ravel().tolist() + [image_path.split('/')[-2]]) #updated with the flattened image pixel values (converted to a list) followed by the label\n",
        "\n",
        "        else:\n",
        "            test_imgs.append(image.ravel().tolist() + [image_path.split('/')[-2]])\n",
        "\n",
        "    img_0 = imread(image_paths[0]) #Reads the first image from the image_paths list to get an example image for its shape\n",
        "    column_names = [f\"p_{x}\" for x in range(np.prod(img_0.shape))] + ['label'] #Generates a list of column names for the DataFrame and the last column is named \"label\" for the image label.\n",
        "\n",
        "    train_df = pd.DataFrame(train_imgs, columns=column_names)\n",
        "    test_df = pd.DataFrame(test_imgs, columns=column_names)\n",
        "\n",
        "    train_df.to_csv(path_to_dataset+'/train.csv', index=False)\n",
        "    test_df.to_csv(path_to_dataset+'/test.csv', index=False)\n",
        "convert_to_csv('Group_6')"
      ],
      "metadata": {
        "id": "0JPU7sYxkZBv"
      },
      "execution_count": null,
      "outputs": []
    },
    {
      "cell_type": "code",
      "source": [
        "df_train = pd.read_csv('Group_6/train.csv')"
      ],
      "metadata": {
        "id": "-55W8eirkZEL"
      },
      "execution_count": null,
      "outputs": []
    },
    {
      "cell_type": "code",
      "source": [
        "#data size\n",
        "df_train.shape"
      ],
      "metadata": {
        "id": "AuhzgxXskZHn",
        "colab": {
          "base_uri": "https://localhost:8080/"
        },
        "outputId": "fea53d58-a1c7-4778-8326-ecf3974329ca"
      },
      "execution_count": null,
      "outputs": [
        {
          "output_type": "execute_result",
          "data": {
            "text/plain": [
              "(2150, 12289)"
            ]
          },
          "metadata": {},
          "execution_count": 8
        }
      ]
    },
    {
      "cell_type": "code",
      "source": [
        "df_train"
      ],
      "metadata": {
        "id": "az_0y0cjnR1s",
        "colab": {
          "base_uri": "https://localhost:8080/",
          "height": 444
        },
        "outputId": "75be09b3-8083-4aa5-f8fe-94daeff2e636"
      },
      "execution_count": null,
      "outputs": [
        {
          "output_type": "execute_result",
          "data": {
            "text/plain": [
              "      p_0  p_1  p_2  p_3  p_4  p_5  p_6  p_7  p_8  p_9  ...  p_12279  p_12280  \\\n",
              "0     180  162  148  179  161  147  178  162  149  177  ...      112       34   \n",
              "1      47   52   48   60   65   61   42   48   48   45  ...      102      101   \n",
              "2     240  255  255  133  149  146   89  101   99   44  ...      119      169   \n",
              "3     215  215  215  215  215  215  215  215  215  217  ...      192      198   \n",
              "4     219  209  208  220  210  209  221  211  210  222  ...      143      125   \n",
              "...   ...  ...  ...  ...  ...  ...  ...  ...  ...  ...  ...      ...      ...   \n",
              "2145  136  135  130  161  160  155  185  185  177  200  ...       22       11   \n",
              "2146  202  220  206  202  220  206  202  220  206  202  ...      182      173   \n",
              "2147  241  241  241  240  240  240  239  239  239  238  ...        8        8   \n",
              "2148  247  247  247  247  247  247  248  248  248  248  ...       45       19   \n",
              "2149   90   80   89   97   87   96   97   90   97   94  ...       28       29   \n",
              "\n",
              "      p_12281  p_12282  p_12283  p_12284  p_12285  p_12286  p_12287     label  \n",
              "0          22       88       10        0      142       65       55    rocker  \n",
              "1          97       96       95       91      100       99       95    rocker  \n",
              "2         140      139      162      154      149      159      161    rocker  \n",
              "3         210      174      186      202      148      163      182    rocker  \n",
              "4         121      143      124      118      141      122      116    rocker  \n",
              "...       ...      ...      ...      ...      ...      ...      ...       ...  \n",
              "2145        9       12        2        1       17        7        8  sombrero  \n",
              "2146      156      167      157      145      149      139      127  sombrero  \n",
              "2147        8        6        6        6       11       11       11  sombrero  \n",
              "2148       80       58       34       68      131      109      130  sombrero  \n",
              "2149       31       27       28       30       26       27       29  sombrero  \n",
              "\n",
              "[2150 rows x 12289 columns]"
            ],
            "text/html": [
              "\n",
              "  <div id=\"df-92d54679-befe-435c-8036-5e2fd2e824aa\" class=\"colab-df-container\">\n",
              "    <div>\n",
              "<style scoped>\n",
              "    .dataframe tbody tr th:only-of-type {\n",
              "        vertical-align: middle;\n",
              "    }\n",
              "\n",
              "    .dataframe tbody tr th {\n",
              "        vertical-align: top;\n",
              "    }\n",
              "\n",
              "    .dataframe thead th {\n",
              "        text-align: right;\n",
              "    }\n",
              "</style>\n",
              "<table border=\"1\" class=\"dataframe\">\n",
              "  <thead>\n",
              "    <tr style=\"text-align: right;\">\n",
              "      <th></th>\n",
              "      <th>p_0</th>\n",
              "      <th>p_1</th>\n",
              "      <th>p_2</th>\n",
              "      <th>p_3</th>\n",
              "      <th>p_4</th>\n",
              "      <th>p_5</th>\n",
              "      <th>p_6</th>\n",
              "      <th>p_7</th>\n",
              "      <th>p_8</th>\n",
              "      <th>p_9</th>\n",
              "      <th>...</th>\n",
              "      <th>p_12279</th>\n",
              "      <th>p_12280</th>\n",
              "      <th>p_12281</th>\n",
              "      <th>p_12282</th>\n",
              "      <th>p_12283</th>\n",
              "      <th>p_12284</th>\n",
              "      <th>p_12285</th>\n",
              "      <th>p_12286</th>\n",
              "      <th>p_12287</th>\n",
              "      <th>label</th>\n",
              "    </tr>\n",
              "  </thead>\n",
              "  <tbody>\n",
              "    <tr>\n",
              "      <th>0</th>\n",
              "      <td>180</td>\n",
              "      <td>162</td>\n",
              "      <td>148</td>\n",
              "      <td>179</td>\n",
              "      <td>161</td>\n",
              "      <td>147</td>\n",
              "      <td>178</td>\n",
              "      <td>162</td>\n",
              "      <td>149</td>\n",
              "      <td>177</td>\n",
              "      <td>...</td>\n",
              "      <td>112</td>\n",
              "      <td>34</td>\n",
              "      <td>22</td>\n",
              "      <td>88</td>\n",
              "      <td>10</td>\n",
              "      <td>0</td>\n",
              "      <td>142</td>\n",
              "      <td>65</td>\n",
              "      <td>55</td>\n",
              "      <td>rocker</td>\n",
              "    </tr>\n",
              "    <tr>\n",
              "      <th>1</th>\n",
              "      <td>47</td>\n",
              "      <td>52</td>\n",
              "      <td>48</td>\n",
              "      <td>60</td>\n",
              "      <td>65</td>\n",
              "      <td>61</td>\n",
              "      <td>42</td>\n",
              "      <td>48</td>\n",
              "      <td>48</td>\n",
              "      <td>45</td>\n",
              "      <td>...</td>\n",
              "      <td>102</td>\n",
              "      <td>101</td>\n",
              "      <td>97</td>\n",
              "      <td>96</td>\n",
              "      <td>95</td>\n",
              "      <td>91</td>\n",
              "      <td>100</td>\n",
              "      <td>99</td>\n",
              "      <td>95</td>\n",
              "      <td>rocker</td>\n",
              "    </tr>\n",
              "    <tr>\n",
              "      <th>2</th>\n",
              "      <td>240</td>\n",
              "      <td>255</td>\n",
              "      <td>255</td>\n",
              "      <td>133</td>\n",
              "      <td>149</td>\n",
              "      <td>146</td>\n",
              "      <td>89</td>\n",
              "      <td>101</td>\n",
              "      <td>99</td>\n",
              "      <td>44</td>\n",
              "      <td>...</td>\n",
              "      <td>119</td>\n",
              "      <td>169</td>\n",
              "      <td>140</td>\n",
              "      <td>139</td>\n",
              "      <td>162</td>\n",
              "      <td>154</td>\n",
              "      <td>149</td>\n",
              "      <td>159</td>\n",
              "      <td>161</td>\n",
              "      <td>rocker</td>\n",
              "    </tr>\n",
              "    <tr>\n",
              "      <th>3</th>\n",
              "      <td>215</td>\n",
              "      <td>215</td>\n",
              "      <td>215</td>\n",
              "      <td>215</td>\n",
              "      <td>215</td>\n",
              "      <td>215</td>\n",
              "      <td>215</td>\n",
              "      <td>215</td>\n",
              "      <td>215</td>\n",
              "      <td>217</td>\n",
              "      <td>...</td>\n",
              "      <td>192</td>\n",
              "      <td>198</td>\n",
              "      <td>210</td>\n",
              "      <td>174</td>\n",
              "      <td>186</td>\n",
              "      <td>202</td>\n",
              "      <td>148</td>\n",
              "      <td>163</td>\n",
              "      <td>182</td>\n",
              "      <td>rocker</td>\n",
              "    </tr>\n",
              "    <tr>\n",
              "      <th>4</th>\n",
              "      <td>219</td>\n",
              "      <td>209</td>\n",
              "      <td>208</td>\n",
              "      <td>220</td>\n",
              "      <td>210</td>\n",
              "      <td>209</td>\n",
              "      <td>221</td>\n",
              "      <td>211</td>\n",
              "      <td>210</td>\n",
              "      <td>222</td>\n",
              "      <td>...</td>\n",
              "      <td>143</td>\n",
              "      <td>125</td>\n",
              "      <td>121</td>\n",
              "      <td>143</td>\n",
              "      <td>124</td>\n",
              "      <td>118</td>\n",
              "      <td>141</td>\n",
              "      <td>122</td>\n",
              "      <td>116</td>\n",
              "      <td>rocker</td>\n",
              "    </tr>\n",
              "    <tr>\n",
              "      <th>...</th>\n",
              "      <td>...</td>\n",
              "      <td>...</td>\n",
              "      <td>...</td>\n",
              "      <td>...</td>\n",
              "      <td>...</td>\n",
              "      <td>...</td>\n",
              "      <td>...</td>\n",
              "      <td>...</td>\n",
              "      <td>...</td>\n",
              "      <td>...</td>\n",
              "      <td>...</td>\n",
              "      <td>...</td>\n",
              "      <td>...</td>\n",
              "      <td>...</td>\n",
              "      <td>...</td>\n",
              "      <td>...</td>\n",
              "      <td>...</td>\n",
              "      <td>...</td>\n",
              "      <td>...</td>\n",
              "      <td>...</td>\n",
              "      <td>...</td>\n",
              "    </tr>\n",
              "    <tr>\n",
              "      <th>2145</th>\n",
              "      <td>136</td>\n",
              "      <td>135</td>\n",
              "      <td>130</td>\n",
              "      <td>161</td>\n",
              "      <td>160</td>\n",
              "      <td>155</td>\n",
              "      <td>185</td>\n",
              "      <td>185</td>\n",
              "      <td>177</td>\n",
              "      <td>200</td>\n",
              "      <td>...</td>\n",
              "      <td>22</td>\n",
              "      <td>11</td>\n",
              "      <td>9</td>\n",
              "      <td>12</td>\n",
              "      <td>2</td>\n",
              "      <td>1</td>\n",
              "      <td>17</td>\n",
              "      <td>7</td>\n",
              "      <td>8</td>\n",
              "      <td>sombrero</td>\n",
              "    </tr>\n",
              "    <tr>\n",
              "      <th>2146</th>\n",
              "      <td>202</td>\n",
              "      <td>220</td>\n",
              "      <td>206</td>\n",
              "      <td>202</td>\n",
              "      <td>220</td>\n",
              "      <td>206</td>\n",
              "      <td>202</td>\n",
              "      <td>220</td>\n",
              "      <td>206</td>\n",
              "      <td>202</td>\n",
              "      <td>...</td>\n",
              "      <td>182</td>\n",
              "      <td>173</td>\n",
              "      <td>156</td>\n",
              "      <td>167</td>\n",
              "      <td>157</td>\n",
              "      <td>145</td>\n",
              "      <td>149</td>\n",
              "      <td>139</td>\n",
              "      <td>127</td>\n",
              "      <td>sombrero</td>\n",
              "    </tr>\n",
              "    <tr>\n",
              "      <th>2147</th>\n",
              "      <td>241</td>\n",
              "      <td>241</td>\n",
              "      <td>241</td>\n",
              "      <td>240</td>\n",
              "      <td>240</td>\n",
              "      <td>240</td>\n",
              "      <td>239</td>\n",
              "      <td>239</td>\n",
              "      <td>239</td>\n",
              "      <td>238</td>\n",
              "      <td>...</td>\n",
              "      <td>8</td>\n",
              "      <td>8</td>\n",
              "      <td>8</td>\n",
              "      <td>6</td>\n",
              "      <td>6</td>\n",
              "      <td>6</td>\n",
              "      <td>11</td>\n",
              "      <td>11</td>\n",
              "      <td>11</td>\n",
              "      <td>sombrero</td>\n",
              "    </tr>\n",
              "    <tr>\n",
              "      <th>2148</th>\n",
              "      <td>247</td>\n",
              "      <td>247</td>\n",
              "      <td>247</td>\n",
              "      <td>247</td>\n",
              "      <td>247</td>\n",
              "      <td>247</td>\n",
              "      <td>248</td>\n",
              "      <td>248</td>\n",
              "      <td>248</td>\n",
              "      <td>248</td>\n",
              "      <td>...</td>\n",
              "      <td>45</td>\n",
              "      <td>19</td>\n",
              "      <td>80</td>\n",
              "      <td>58</td>\n",
              "      <td>34</td>\n",
              "      <td>68</td>\n",
              "      <td>131</td>\n",
              "      <td>109</td>\n",
              "      <td>130</td>\n",
              "      <td>sombrero</td>\n",
              "    </tr>\n",
              "    <tr>\n",
              "      <th>2149</th>\n",
              "      <td>90</td>\n",
              "      <td>80</td>\n",
              "      <td>89</td>\n",
              "      <td>97</td>\n",
              "      <td>87</td>\n",
              "      <td>96</td>\n",
              "      <td>97</td>\n",
              "      <td>90</td>\n",
              "      <td>97</td>\n",
              "      <td>94</td>\n",
              "      <td>...</td>\n",
              "      <td>28</td>\n",
              "      <td>29</td>\n",
              "      <td>31</td>\n",
              "      <td>27</td>\n",
              "      <td>28</td>\n",
              "      <td>30</td>\n",
              "      <td>26</td>\n",
              "      <td>27</td>\n",
              "      <td>29</td>\n",
              "      <td>sombrero</td>\n",
              "    </tr>\n",
              "  </tbody>\n",
              "</table>\n",
              "<p>2150 rows × 12289 columns</p>\n",
              "</div>\n",
              "    <div class=\"colab-df-buttons\">\n",
              "\n",
              "  <div class=\"colab-df-container\">\n",
              "    <button class=\"colab-df-convert\" onclick=\"convertToInteractive('df-92d54679-befe-435c-8036-5e2fd2e824aa')\"\n",
              "            title=\"Convert this dataframe to an interactive table.\"\n",
              "            style=\"display:none;\">\n",
              "\n",
              "  <svg xmlns=\"http://www.w3.org/2000/svg\" height=\"24px\" viewBox=\"0 -960 960 960\">\n",
              "    <path d=\"M120-120v-720h720v720H120Zm60-500h600v-160H180v160Zm220 220h160v-160H400v160Zm0 220h160v-160H400v160ZM180-400h160v-160H180v160Zm440 0h160v-160H620v160ZM180-180h160v-160H180v160Zm440 0h160v-160H620v160Z\"/>\n",
              "  </svg>\n",
              "    </button>\n",
              "\n",
              "  <style>\n",
              "    .colab-df-container {\n",
              "      display:flex;\n",
              "      gap: 12px;\n",
              "    }\n",
              "\n",
              "    .colab-df-convert {\n",
              "      background-color: #E8F0FE;\n",
              "      border: none;\n",
              "      border-radius: 50%;\n",
              "      cursor: pointer;\n",
              "      display: none;\n",
              "      fill: #1967D2;\n",
              "      height: 32px;\n",
              "      padding: 0 0 0 0;\n",
              "      width: 32px;\n",
              "    }\n",
              "\n",
              "    .colab-df-convert:hover {\n",
              "      background-color: #E2EBFA;\n",
              "      box-shadow: 0px 1px 2px rgba(60, 64, 67, 0.3), 0px 1px 3px 1px rgba(60, 64, 67, 0.15);\n",
              "      fill: #174EA6;\n",
              "    }\n",
              "\n",
              "    .colab-df-buttons div {\n",
              "      margin-bottom: 4px;\n",
              "    }\n",
              "\n",
              "    [theme=dark] .colab-df-convert {\n",
              "      background-color: #3B4455;\n",
              "      fill: #D2E3FC;\n",
              "    }\n",
              "\n",
              "    [theme=dark] .colab-df-convert:hover {\n",
              "      background-color: #434B5C;\n",
              "      box-shadow: 0px 1px 3px 1px rgba(0, 0, 0, 0.15);\n",
              "      filter: drop-shadow(0px 1px 2px rgba(0, 0, 0, 0.3));\n",
              "      fill: #FFFFFF;\n",
              "    }\n",
              "  </style>\n",
              "\n",
              "    <script>\n",
              "      const buttonEl =\n",
              "        document.querySelector('#df-92d54679-befe-435c-8036-5e2fd2e824aa button.colab-df-convert');\n",
              "      buttonEl.style.display =\n",
              "        google.colab.kernel.accessAllowed ? 'block' : 'none';\n",
              "\n",
              "      async function convertToInteractive(key) {\n",
              "        const element = document.querySelector('#df-92d54679-befe-435c-8036-5e2fd2e824aa');\n",
              "        const dataTable =\n",
              "          await google.colab.kernel.invokeFunction('convertToInteractive',\n",
              "                                                    [key], {});\n",
              "        if (!dataTable) return;\n",
              "\n",
              "        const docLinkHtml = 'Like what you see? Visit the ' +\n",
              "          '<a target=\"_blank\" href=https://colab.research.google.com/notebooks/data_table.ipynb>data table notebook</a>'\n",
              "          + ' to learn more about interactive tables.';\n",
              "        element.innerHTML = '';\n",
              "        dataTable['output_type'] = 'display_data';\n",
              "        await google.colab.output.renderOutput(dataTable, element);\n",
              "        const docLink = document.createElement('div');\n",
              "        docLink.innerHTML = docLinkHtml;\n",
              "        element.appendChild(docLink);\n",
              "      }\n",
              "    </script>\n",
              "  </div>\n",
              "\n",
              "\n",
              "<div id=\"df-50dbc315-046f-46c8-a942-66261a3b0d9b\">\n",
              "  <button class=\"colab-df-quickchart\" onclick=\"quickchart('df-50dbc315-046f-46c8-a942-66261a3b0d9b')\"\n",
              "            title=\"Suggest charts.\"\n",
              "            style=\"display:none;\">\n",
              "\n",
              "<svg xmlns=\"http://www.w3.org/2000/svg\" height=\"24px\"viewBox=\"0 0 24 24\"\n",
              "     width=\"24px\">\n",
              "    <g>\n",
              "        <path d=\"M19 3H5c-1.1 0-2 .9-2 2v14c0 1.1.9 2 2 2h14c1.1 0 2-.9 2-2V5c0-1.1-.9-2-2-2zM9 17H7v-7h2v7zm4 0h-2V7h2v10zm4 0h-2v-4h2v4z\"/>\n",
              "    </g>\n",
              "</svg>\n",
              "  </button>\n",
              "\n",
              "<style>\n",
              "  .colab-df-quickchart {\n",
              "    background-color: #E8F0FE;\n",
              "    border: none;\n",
              "    border-radius: 50%;\n",
              "    cursor: pointer;\n",
              "    display: none;\n",
              "    fill: #1967D2;\n",
              "    height: 32px;\n",
              "    padding: 0 0 0 0;\n",
              "    width: 32px;\n",
              "  }\n",
              "\n",
              "  .colab-df-quickchart:hover {\n",
              "    background-color: #E2EBFA;\n",
              "    box-shadow: 0px 1px 2px rgba(60, 64, 67, 0.3), 0px 1px 3px 1px rgba(60, 64, 67, 0.15);\n",
              "    fill: #174EA6;\n",
              "  }\n",
              "\n",
              "  [theme=dark] .colab-df-quickchart {\n",
              "    background-color: #3B4455;\n",
              "    fill: #D2E3FC;\n",
              "  }\n",
              "\n",
              "  [theme=dark] .colab-df-quickchart:hover {\n",
              "    background-color: #434B5C;\n",
              "    box-shadow: 0px 1px 3px 1px rgba(0, 0, 0, 0.15);\n",
              "    filter: drop-shadow(0px 1px 2px rgba(0, 0, 0, 0.3));\n",
              "    fill: #FFFFFF;\n",
              "  }\n",
              "</style>\n",
              "\n",
              "  <script>\n",
              "    async function quickchart(key) {\n",
              "      const charts = await google.colab.kernel.invokeFunction(\n",
              "          'suggestCharts', [key], {});\n",
              "    }\n",
              "    (() => {\n",
              "      let quickchartButtonEl =\n",
              "        document.querySelector('#df-50dbc315-046f-46c8-a942-66261a3b0d9b button');\n",
              "      quickchartButtonEl.style.display =\n",
              "        google.colab.kernel.accessAllowed ? 'block' : 'none';\n",
              "    })();\n",
              "  </script>\n",
              "</div>\n",
              "    </div>\n",
              "  </div>\n"
            ]
          },
          "metadata": {},
          "execution_count": 9
        }
      ]
    },
    {
      "cell_type": "code",
      "source": [
        "unique_labels = df_train[\"label\"].unique()\n",
        "print(unique_labels)\n",
        "print(len(unique_labels))   # we have 5 unique labels"
      ],
      "metadata": {
        "id": "slPKEx6woQJL",
        "colab": {
          "base_uri": "https://localhost:8080/"
        },
        "outputId": "c321ec02-704e-4fea-f231-17f0b986419c"
      },
      "execution_count": null,
      "outputs": [
        {
          "output_type": "stream",
          "name": "stdout",
          "text": [
            "['rocker' 'remote' 'schoolbus' 'scoreboard' 'sombrero']\n",
            "5\n"
          ]
        }
      ]
    },
    {
      "cell_type": "code",
      "source": [
        "#data distribution\n",
        "\n",
        "print(df_train.label.value_counts())\n",
        "\n"
      ],
      "metadata": {
        "id": "gEWvxCo3kZJp",
        "colab": {
          "base_uri": "https://localhost:8080/"
        },
        "outputId": "4c61ddf5-0fdb-42f9-9432-99941ebbda8c"
      },
      "execution_count": null,
      "outputs": [
        {
          "output_type": "stream",
          "name": "stdout",
          "text": [
            "rocker        500\n",
            "schoolbus     500\n",
            "scoreboard    500\n",
            "sombrero      400\n",
            "remote        250\n",
            "Name: label, dtype: int64\n"
          ]
        }
      ]
    },
    {
      "cell_type": "code",
      "source": [
        "df_test = pd.read_csv('Group_6/test.csv')"
      ],
      "metadata": {
        "id": "JJOl0bxCkZOz"
      },
      "execution_count": null,
      "outputs": []
    },
    {
      "cell_type": "code",
      "source": [
        "df_test.shape"
      ],
      "metadata": {
        "id": "TqfyEIYfkZSK",
        "colab": {
          "base_uri": "https://localhost:8080/"
        },
        "outputId": "3691fddb-3b4d-4d3e-f7e9-719fd4a228c4"
      },
      "execution_count": null,
      "outputs": [
        {
          "output_type": "execute_result",
          "data": {
            "text/plain": [
              "(250, 12289)"
            ]
          },
          "metadata": {},
          "execution_count": 13
        }
      ]
    },
    {
      "cell_type": "code",
      "source": [
        "print(df_test.label.value_counts())\n",
        "\n",
        "df_test.label.value_counts().plot(kind='bar', title='Count (label)');"
      ],
      "metadata": {
        "id": "hNJLbq2nlqzK",
        "colab": {
          "base_uri": "https://localhost:8080/",
          "height": 620
        },
        "outputId": "dc422547-5a5c-4b4d-b3f4-7190b17de0f2"
      },
      "execution_count": null,
      "outputs": [
        {
          "output_type": "stream",
          "name": "stdout",
          "text": [
            "rocker        50\n",
            "remote        50\n",
            "schoolbus     50\n",
            "scoreboard    50\n",
            "sombrero      50\n",
            "Name: label, dtype: int64\n"
          ]
        },
        {
          "output_type": "display_data",
          "data": {
            "text/plain": [
              "<Figure size 640x480 with 1 Axes>"
            ],
            "image/png": "[encoded data removed]"
          },
          "metadata": {}
        }
      ]
    },
    {
      "cell_type": "code",
      "source": [
        "#converting the labels from categorical values to numerical values\n",
        "\n",
        "lab = LabelEncoder()\n",
        "lab.fit(df_train[\"label\"])\n",
        "df_train[\"label\"] = lab.transform(df_train[\"label\"])\n",
        "df_test[\"label\"] = lab.transform(df_test[\"label\"])"
      ],
      "metadata": {
        "id": "1LFPhaH8lq2G"
      },
      "execution_count": null,
      "outputs": []
    },
    {
      "cell_type": "code",
      "source": [
        "df_train['label']"
      ],
      "metadata": {
        "id": "p5B_VfGYlq4s",
        "colab": {
          "base_uri": "https://localhost:8080/"
        },
        "outputId": "122f5c89-efcc-42cb-872f-b27f85c05681"
      },
      "execution_count": null,
      "outputs": [
        {
          "output_type": "execute_result",
          "data": {
            "text/plain": [
              "0       1\n",
              "1       1\n",
              "2       1\n",
              "3       1\n",
              "4       1\n",
              "       ..\n",
              "2145    4\n",
              "2146    4\n",
              "2147    4\n",
              "2148    4\n",
              "2149    4\n",
              "Name: label, Length: 2150, dtype: int64"
            ]
          },
          "metadata": {},
          "execution_count": 16
        }
      ]
    },
    {
      "cell_type": "code",
      "source": [
        "X_train = df_train.drop(['label'], axis=1)\n",
        "y_train = df_train[\"label\"]"
      ],
      "metadata": {
        "id": "zYD-8J8Zlq7M"
      },
      "execution_count": null,
      "outputs": []
    },
    {
      "cell_type": "code",
      "source": [
        "X_test= df_test.drop(['label'], axis=1)\n",
        "y_test= df_test[\"label\"]"
      ],
      "metadata": {
        "id": "JUDsFdCDqBqE"
      },
      "execution_count": null,
      "outputs": []
    },
    {
      "cell_type": "code",
      "source": [
        "#scaling train\n",
        "\n",
        "X_train_norm = preprocessing.minmax_scale(X_train)\n",
        "df_train = pd.DataFrame(X_train_norm, columns=df_train.columns[:-1])\n",
        "df_train.head()"
      ],
      "metadata": {
        "id": "KfbbQw85qtOK",
        "colab": {
          "base_uri": "https://localhost:8080/",
          "height": 256
        },
        "outputId": "9ec8920f-b6f5-475e-ba30-6dd8a813660e"
      },
      "execution_count": null,
      "outputs": [
        {
          "output_type": "execute_result",
          "data": {
            "text/plain": [
              "        p_0       p_1       p_2       p_3       p_4       p_5       p_6  \\\n",
              "0  0.705882  0.635294  0.580392  0.701961  0.631373  0.576471  0.698039   \n",
              "1  0.184314  0.203922  0.188235  0.235294  0.254902  0.239216  0.164706   \n",
              "2  0.941176  1.000000  1.000000  0.521569  0.584314  0.572549  0.349020   \n",
              "3  0.843137  0.843137  0.843137  0.843137  0.843137  0.843137  0.843137   \n",
              "4  0.858824  0.819608  0.815686  0.862745  0.823529  0.819608  0.866667   \n",
              "\n",
              "        p_7       p_8       p_9  ...   p_12278   p_12279   p_12280   p_12281  \\\n",
              "0  0.635294  0.584314  0.694118  ...  0.125490  0.439216  0.133333  0.086275   \n",
              "1  0.188235  0.188235  0.176471  ...  0.392157  0.400000  0.396078  0.380392   \n",
              "2  0.396078  0.388235  0.172549  ...  0.556863  0.466667  0.662745  0.549020   \n",
              "3  0.843137  0.843137  0.850980  ...  0.317647  0.752941  0.776471  0.823529   \n",
              "4  0.827451  0.823529  0.870588  ...  0.517647  0.560784  0.490196  0.474510   \n",
              "\n",
              "    p_12282   p_12283   p_12284   p_12285   p_12286   p_12287  \n",
              "0  0.345098  0.039216  0.000000  0.556863  0.254902  0.215686  \n",
              "1  0.376471  0.372549  0.356863  0.392157  0.388235  0.372549  \n",
              "2  0.545098  0.635294  0.603922  0.584314  0.623529  0.631373  \n",
              "3  0.682353  0.729412  0.792157  0.580392  0.639216  0.713725  \n",
              "4  0.560784  0.486275  0.462745  0.552941  0.478431  0.454902  \n",
              "\n",
              "[5 rows x 12288 columns]"
            ],
            "text/html": [
              "\n",
              "  <div id=\"df-51127c81-8d28-437c-9ad5-06ac97cd819b\" class=\"colab-df-container\">\n",
              "    <div>\n",
              "<style scoped>\n",
              "    .dataframe tbody tr th:only-of-type {\n",
              "        vertical-align: middle;\n",
              "    }\n",
              "\n",
              "    .dataframe tbody tr th {\n",
              "        vertical-align: top;\n",
              "    }\n",
              "\n",
              "    .dataframe thead th {\n",
              "        text-align: right;\n",
              "    }\n",
              "</style>\n",
              "<table border=\"1\" class=\"dataframe\">\n",
              "  <thead>\n",
              "    <tr style=\"text-align: right;\">\n",
              "      <th></th>\n",
              "      <th>p_0</th>\n",
              "      <th>p_1</th>\n",
              "      <th>p_2</th>\n",
              "      <th>p_3</th>\n",
              "      <th>p_4</th>\n",
              "      <th>p_5</th>\n",
              "      <th>p_6</th>\n",
              "      <th>p_7</th>\n",
              "      <th>p_8</th>\n",
              "      <th>p_9</th>\n",
              "      <th>...</th>\n",
              "      <th>p_12278</th>\n",
              "      <th>p_12279</th>\n",
              "      <th>p_12280</th>\n",
              "      <th>p_12281</th>\n",
              "      <th>p_12282</th>\n",
              "      <th>p_12283</th>\n",
              "      <th>p_12284</th>\n",
              "      <th>p_12285</th>\n",
              "      <th>p_12286</th>\n",
              "      <th>p_12287</th>\n",
              "    </tr>\n",
              "  </thead>\n",
              "  <tbody>\n",
              "    <tr>\n",
              "      <th>0</th>\n",
              "      <td>0.705882</td>\n",
              "      <td>0.635294</td>\n",
              "      <td>0.580392</td>\n",
              "      <td>0.701961</td>\n",
              "      <td>0.631373</td>\n",
              "      <td>0.576471</td>\n",
              "      <td>0.698039</td>\n",
              "      <td>0.635294</td>\n",
              "      <td>0.584314</td>\n",
              "      <td>0.694118</td>\n",
              "      <td>...</td>\n",
              "      <td>0.125490</td>\n",
              "      <td>0.439216</td>\n",
              "      <td>0.133333</td>\n",
              "      <td>0.086275</td>\n",
              "      <td>0.345098</td>\n",
              "      <td>0.039216</td>\n",
              "      <td>0.000000</td>\n",
              "      <td>0.556863</td>\n",
              "      <td>0.254902</td>\n",
              "      <td>0.215686</td>\n",
              "    </tr>\n",
              "    <tr>\n",
              "      <th>1</th>\n",
              "      <td>0.184314</td>\n",
              "      <td>0.203922</td>\n",
              "      <td>0.188235</td>\n",
              "      <td>0.235294</td>\n",
              "      <td>0.254902</td>\n",
              "      <td>0.239216</td>\n",
              "      <td>0.164706</td>\n",
              "      <td>0.188235</td>\n",
              "      <td>0.188235</td>\n",
              "      <td>0.176471</td>\n",
              "      <td>...</td>\n",
              "      <td>0.392157</td>\n",
              "      <td>0.400000</td>\n",
              "      <td>0.396078</td>\n",
              "      <td>0.380392</td>\n",
              "      <td>0.376471</td>\n",
              "      <td>0.372549</td>\n",
              "      <td>0.356863</td>\n",
              "      <td>0.392157</td>\n",
              "      <td>0.388235</td>\n",
              "      <td>0.372549</td>\n",
              "    </tr>\n",
              "    <tr>\n",
              "      <th>2</th>\n",
              "      <td>0.941176</td>\n",
              "      <td>1.000000</td>\n",
              "      <td>1.000000</td>\n",
              "      <td>0.521569</td>\n",
              "      <td>0.584314</td>\n",
              "      <td>0.572549</td>\n",
              "      <td>0.349020</td>\n",
              "      <td>0.396078</td>\n",
              "      <td>0.388235</td>\n",
              "      <td>0.172549</td>\n",
              "      <td>...</td>\n",
              "      <td>0.556863</td>\n",
              "      <td>0.466667</td>\n",
              "      <td>0.662745</td>\n",
              "      <td>0.549020</td>\n",
              "      <td>0.545098</td>\n",
              "      <td>0.635294</td>\n",
              "      <td>0.603922</td>\n",
              "      <td>0.584314</td>\n",
              "      <td>0.623529</td>\n",
              "      <td>0.631373</td>\n",
              "    </tr>\n",
              "    <tr>\n",
              "      <th>3</th>\n",
              "      <td>0.843137</td>\n",
              "      <td>0.843137</td>\n",
              "      <td>0.843137</td>\n",
              "      <td>0.843137</td>\n",
              "      <td>0.843137</td>\n",
              "      <td>0.843137</td>\n",
              "      <td>0.843137</td>\n",
              "      <td>0.843137</td>\n",
              "      <td>0.843137</td>\n",
              "      <td>0.850980</td>\n",
              "      <td>...</td>\n",
              "      <td>0.317647</td>\n",
              "      <td>0.752941</td>\n",
              "      <td>0.776471</td>\n",
              "      <td>0.823529</td>\n",
              "      <td>0.682353</td>\n",
              "      <td>0.729412</td>\n",
              "      <td>0.792157</td>\n",
              "      <td>0.580392</td>\n",
              "      <td>0.639216</td>\n",
              "      <td>0.713725</td>\n",
              "    </tr>\n",
              "    <tr>\n",
              "      <th>4</th>\n",
              "      <td>0.858824</td>\n",
              "      <td>0.819608</td>\n",
              "      <td>0.815686</td>\n",
              "      <td>0.862745</td>\n",
              "      <td>0.823529</td>\n",
              "      <td>0.819608</td>\n",
              "      <td>0.866667</td>\n",
              "      <td>0.827451</td>\n",
              "      <td>0.823529</td>\n",
              "      <td>0.870588</td>\n",
              "      <td>...</td>\n",
              "      <td>0.517647</td>\n",
              "      <td>0.560784</td>\n",
              "      <td>0.490196</td>\n",
              "      <td>0.474510</td>\n",
              "      <td>0.560784</td>\n",
              "      <td>0.486275</td>\n",
              "      <td>0.462745</td>\n",
              "      <td>0.552941</td>\n",
              "      <td>0.478431</td>\n",
              "      <td>0.454902</td>\n",
              "    </tr>\n",
              "  </tbody>\n",
              "</table>\n",
              "<p>5 rows × 12288 columns</p>\n",
              "</div>\n",
              "    <div class=\"colab-df-buttons\">\n",
              "\n",
              "  <div class=\"colab-df-container\">\n",
              "    <button class=\"colab-df-convert\" onclick=\"convertToInteractive('df-51127c81-8d28-437c-9ad5-06ac97cd819b')\"\n",
              "            title=\"Convert this dataframe to an interactive table.\"\n",
              "            style=\"display:none;\">\n",
              "\n",
              "  <svg xmlns=\"http://www.w3.org/2000/svg\" height=\"24px\" viewBox=\"0 -960 960 960\">\n",
              "    <path d=\"M120-120v-720h720v720H120Zm60-500h600v-160H180v160Zm220 220h160v-160H400v160Zm0 220h160v-160H400v160ZM180-400h160v-160H180v160Zm440 0h160v-160H620v160ZM180-180h160v-160H180v160Zm440 0h160v-160H620v160Z\"/>\n",
              "  </svg>\n",
              "    </button>\n",
              "\n",
              "  <style>\n",
              "    .colab-df-container {\n",
              "      display:flex;\n",
              "      gap: 12px;\n",
              "    }\n",
              "\n",
              "    .colab-df-convert {\n",
              "      background-color: #E8F0FE;\n",
              "      border: none;\n",
              "      border-radius: 50%;\n",
              "      cursor: pointer;\n",
              "      display: none;\n",
              "      fill: #1967D2;\n",
              "      height: 32px;\n",
              "      padding: 0 0 0 0;\n",
              "      width: 32px;\n",
              "    }\n",
              "\n",
              "    .colab-df-convert:hover {\n",
              "      background-color: #E2EBFA;\n",
              "      box-shadow: 0px 1px 2px rgba(60, 64, 67, 0.3), 0px 1px 3px 1px rgba(60, 64, 67, 0.15);\n",
              "      fill: #174EA6;\n",
              "    }\n",
              "\n",
              "    .colab-df-buttons div {\n",
              "      margin-bottom: 4px;\n",
              "    }\n",
              "\n",
              "    [theme=dark] .colab-df-convert {\n",
              "      background-color: #3B4455;\n",
              "      fill: #D2E3FC;\n",
              "    }\n",
              "\n",
              "    [theme=dark] .colab-df-convert:hover {\n",
              "      background-color: #434B5C;\n",
              "      box-shadow: 0px 1px 3px 1px rgba(0, 0, 0, 0.15);\n",
              "      filter: drop-shadow(0px 1px 2px rgba(0, 0, 0, 0.3));\n",
              "      fill: #FFFFFF;\n",
              "    }\n",
              "  </style>\n",
              "\n",
              "    <script>\n",
              "      const buttonEl =\n",
              "        document.querySelector('#df-51127c81-8d28-437c-9ad5-06ac97cd819b button.colab-df-convert');\n",
              "      buttonEl.style.display =\n",
              "        google.colab.kernel.accessAllowed ? 'block' : 'none';\n",
              "\n",
              "      async function convertToInteractive(key) {\n",
              "        const element = document.querySelector('#df-51127c81-8d28-437c-9ad5-06ac97cd819b');\n",
              "        const dataTable =\n",
              "          await google.colab.kernel.invokeFunction('convertToInteractive',\n",
              "                                                    [key], {});\n",
              "        if (!dataTable) return;\n",
              "\n",
              "        const docLinkHtml = 'Like what you see? Visit the ' +\n",
              "          '<a target=\"_blank\" href=https://colab.research.google.com/notebooks/data_table.ipynb>data table notebook</a>'\n",
              "          + ' to learn more about interactive tables.';\n",
              "        element.innerHTML = '';\n",
              "        dataTable['output_type'] = 'display_data';\n",
              "        await google.colab.output.renderOutput(dataTable, element);\n",
              "        const docLink = document.createElement('div');\n",
              "        docLink.innerHTML = docLinkHtml;\n",
              "        element.appendChild(docLink);\n",
              "      }\n",
              "    </script>\n",
              "  </div>\n",
              "\n",
              "\n",
              "<div id=\"df-25a2967f-fe68-4e26-8c2f-ef044634a5ac\">\n",
              "  <button class=\"colab-df-quickchart\" onclick=\"quickchart('df-25a2967f-fe68-4e26-8c2f-ef044634a5ac')\"\n",
              "            title=\"Suggest charts.\"\n",
              "            style=\"display:none;\">\n",
              "\n",
              "<svg xmlns=\"http://www.w3.org/2000/svg\" height=\"24px\"viewBox=\"0 0 24 24\"\n",
              "     width=\"24px\">\n",
              "    <g>\n",
              "        <path d=\"M19 3H5c-1.1 0-2 .9-2 2v14c0 1.1.9 2 2 2h14c1.1 0 2-.9 2-2V5c0-1.1-.9-2-2-2zM9 17H7v-7h2v7zm4 0h-2V7h2v10zm4 0h-2v-4h2v4z\"/>\n",
              "    </g>\n",
              "</svg>\n",
              "  </button>\n",
              "\n",
              "<style>\n",
              "  .colab-df-quickchart {\n",
              "    background-color: #E8F0FE;\n",
              "    border: none;\n",
              "    border-radius: 50%;\n",
              "    cursor: pointer;\n",
              "    display: none;\n",
              "    fill: #1967D2;\n",
              "    height: 32px;\n",
              "    padding: 0 0 0 0;\n",
              "    width: 32px;\n",
              "  }\n",
              "\n",
              "  .colab-df-quickchart:hover {\n",
              "    background-color: #E2EBFA;\n",
              "    box-shadow: 0px 1px 2px rgba(60, 64, 67, 0.3), 0px 1px 3px 1px rgba(60, 64, 67, 0.15);\n",
              "    fill: #174EA6;\n",
              "  }\n",
              "\n",
              "  [theme=dark] .colab-df-quickchart {\n",
              "    background-color: #3B4455;\n",
              "    fill: #D2E3FC;\n",
              "  }\n",
              "\n",
              "  [theme=dark] .colab-df-quickchart:hover {\n",
              "    background-color: #434B5C;\n",
              "    box-shadow: 0px 1px 3px 1px rgba(0, 0, 0, 0.15);\n",
              "    filter: drop-shadow(0px 1px 2px rgba(0, 0, 0, 0.3));\n",
              "    fill: #FFFFFF;\n",
              "  }\n",
              "</style>\n",
              "\n",
              "  <script>\n",
              "    async function quickchart(key) {\n",
              "      const charts = await google.colab.kernel.invokeFunction(\n",
              "          'suggestCharts', [key], {});\n",
              "    }\n",
              "    (() => {\n",
              "      let quickchartButtonEl =\n",
              "        document.querySelector('#df-25a2967f-fe68-4e26-8c2f-ef044634a5ac button');\n",
              "      quickchartButtonEl.style.display =\n",
              "        google.colab.kernel.accessAllowed ? 'block' : 'none';\n",
              "    })();\n",
              "  </script>\n",
              "</div>\n",
              "    </div>\n",
              "  </div>\n"
            ]
          },
          "metadata": {},
          "execution_count": 19
        }
      ]
    },
    {
      "cell_type": "code",
      "source": [
        "#scaling test\n",
        "\n",
        "X_test_norm = preprocessing.minmax_scale(X_test)\n",
        "df_test = pd.DataFrame(X_test_norm, columns=df_test.columns[:-1])\n",
        "df_test.head()"
      ],
      "metadata": {
        "id": "9ab-CHVdq3Py",
        "colab": {
          "base_uri": "https://localhost:8080/",
          "height": 256
        },
        "outputId": "0c48ce34-17a3-472b-fc14-df8a99d20e12"
      },
      "execution_count": null,
      "outputs": [
        {
          "output_type": "execute_result",
          "data": {
            "text/plain": [
              "        p_0       p_1       p_2       p_3       p_4       p_5       p_6  \\\n",
              "0  0.752941  0.741176  0.705882  0.674510  0.658824  0.623529  0.678431   \n",
              "1  0.792157  0.796078  0.733333  0.847059  0.858824  0.792157  0.635294   \n",
              "2  0.945098  0.941176  0.996078  0.949020  0.949020  0.996078  0.956863   \n",
              "3  0.450980  0.521569  0.317647  0.435294  0.498039  0.313725  0.568627   \n",
              "4  0.321569  0.215686  0.149020  0.341176  0.239216  0.180392  0.466667   \n",
              "\n",
              "        p_7       p_8       p_9  ...   p_12278   p_12279   p_12280   p_12281  \\\n",
              "0  0.650980  0.627451  0.686275  ...  0.505882  0.431373  0.486275  0.529412   \n",
              "1  0.650980  0.584314  0.439216  ...  0.929412  0.929412  0.925490  0.945098   \n",
              "2  0.945098  0.988235  0.956863  ...  0.709804  0.717647  0.705882  0.678431   \n",
              "3  0.615686  0.458824  0.686275  ...  0.247059  0.274510  0.337255  0.286275   \n",
              "4  0.376471  0.321569  0.666667  ...  0.305882  0.282353  0.301961  0.313725   \n",
              "\n",
              "    p_12282   p_12283   p_12284   p_12285   p_12286   p_12287  \n",
              "0  0.639216  0.690196  0.752941  0.572549  0.635294  0.694118  \n",
              "1  0.945098  0.949020  0.964706  0.866667  0.870588  0.878431  \n",
              "2  0.701961  0.701961  0.670588  0.705882  0.705882  0.674510  \n",
              "3  0.184314  0.239216  0.180392  0.149020  0.203922  0.145098  \n",
              "4  0.313725  0.278431  0.243137  0.305882  0.243137  0.184314  \n",
              "\n",
              "[5 rows x 12288 columns]"
            ],
            "text/html": [
              "\n",
              "  <div id=\"df-5280e27e-9e3d-4731-8fde-3e41b8c916cb\" class=\"colab-df-container\">\n",
              "    <div>\n",
              "<style scoped>\n",
              "    .dataframe tbody tr th:only-of-type {\n",
              "        vertical-align: middle;\n",
              "    }\n",
              "\n",
              "    .dataframe tbody tr th {\n",
              "        vertical-align: top;\n",
              "    }\n",
              "\n",
              "    .dataframe thead th {\n",
              "        text-align: right;\n",
              "    }\n",
              "</style>\n",
              "<table border=\"1\" class=\"dataframe\">\n",
              "  <thead>\n",
              "    <tr style=\"text-align: right;\">\n",
              "      <th></th>\n",
              "      <th>p_0</th>\n",
              "      <th>p_1</th>\n",
              "      <th>p_2</th>\n",
              "      <th>p_3</th>\n",
              "      <th>p_4</th>\n",
              "      <th>p_5</th>\n",
              "      <th>p_6</th>\n",
              "      <th>p_7</th>\n",
              "      <th>p_8</th>\n",
              "      <th>p_9</th>\n",
              "      <th>...</th>\n",
              "      <th>p_12278</th>\n",
              "      <th>p_12279</th>\n",
              "      <th>p_12280</th>\n",
              "      <th>p_12281</th>\n",
              "      <th>p_12282</th>\n",
              "      <th>p_12283</th>\n",
              "      <th>p_12284</th>\n",
              "      <th>p_12285</th>\n",
              "      <th>p_12286</th>\n",
              "      <th>p_12287</th>\n",
              "    </tr>\n",
              "  </thead>\n",
              "  <tbody>\n",
              "    <tr>\n",
              "      <th>0</th>\n",
              "      <td>0.752941</td>\n",
              "      <td>0.741176</td>\n",
              "      <td>0.705882</td>\n",
              "      <td>0.674510</td>\n",
              "      <td>0.658824</td>\n",
              "      <td>0.623529</td>\n",
              "      <td>0.678431</td>\n",
              "      <td>0.650980</td>\n",
              "      <td>0.627451</td>\n",
              "      <td>0.686275</td>\n",
              "      <td>...</td>\n",
              "      <td>0.505882</td>\n",
              "      <td>0.431373</td>\n",
              "      <td>0.486275</td>\n",
              "      <td>0.529412</td>\n",
              "      <td>0.639216</td>\n",
              "      <td>0.690196</td>\n",
              "      <td>0.752941</td>\n",
              "      <td>0.572549</td>\n",
              "      <td>0.635294</td>\n",
              "      <td>0.694118</td>\n",
              "    </tr>\n",
              "    <tr>\n",
              "      <th>1</th>\n",
              "      <td>0.792157</td>\n",
              "      <td>0.796078</td>\n",
              "      <td>0.733333</td>\n",
              "      <td>0.847059</td>\n",
              "      <td>0.858824</td>\n",
              "      <td>0.792157</td>\n",
              "      <td>0.635294</td>\n",
              "      <td>0.650980</td>\n",
              "      <td>0.584314</td>\n",
              "      <td>0.439216</td>\n",
              "      <td>...</td>\n",
              "      <td>0.929412</td>\n",
              "      <td>0.929412</td>\n",
              "      <td>0.925490</td>\n",
              "      <td>0.945098</td>\n",
              "      <td>0.945098</td>\n",
              "      <td>0.949020</td>\n",
              "      <td>0.964706</td>\n",
              "      <td>0.866667</td>\n",
              "      <td>0.870588</td>\n",
              "      <td>0.878431</td>\n",
              "    </tr>\n",
              "    <tr>\n",
              "      <th>2</th>\n",
              "      <td>0.945098</td>\n",
              "      <td>0.941176</td>\n",
              "      <td>0.996078</td>\n",
              "      <td>0.949020</td>\n",
              "      <td>0.949020</td>\n",
              "      <td>0.996078</td>\n",
              "      <td>0.956863</td>\n",
              "      <td>0.945098</td>\n",
              "      <td>0.988235</td>\n",
              "      <td>0.956863</td>\n",
              "      <td>...</td>\n",
              "      <td>0.709804</td>\n",
              "      <td>0.717647</td>\n",
              "      <td>0.705882</td>\n",
              "      <td>0.678431</td>\n",
              "      <td>0.701961</td>\n",
              "      <td>0.701961</td>\n",
              "      <td>0.670588</td>\n",
              "      <td>0.705882</td>\n",
              "      <td>0.705882</td>\n",
              "      <td>0.674510</td>\n",
              "    </tr>\n",
              "    <tr>\n",
              "      <th>3</th>\n",
              "      <td>0.450980</td>\n",
              "      <td>0.521569</td>\n",
              "      <td>0.317647</td>\n",
              "      <td>0.435294</td>\n",
              "      <td>0.498039</td>\n",
              "      <td>0.313725</td>\n",
              "      <td>0.568627</td>\n",
              "      <td>0.615686</td>\n",
              "      <td>0.458824</td>\n",
              "      <td>0.686275</td>\n",
              "      <td>...</td>\n",
              "      <td>0.247059</td>\n",
              "      <td>0.274510</td>\n",
              "      <td>0.337255</td>\n",
              "      <td>0.286275</td>\n",
              "      <td>0.184314</td>\n",
              "      <td>0.239216</td>\n",
              "      <td>0.180392</td>\n",
              "      <td>0.149020</td>\n",
              "      <td>0.203922</td>\n",
              "      <td>0.145098</td>\n",
              "    </tr>\n",
              "    <tr>\n",
              "      <th>4</th>\n",
              "      <td>0.321569</td>\n",
              "      <td>0.215686</td>\n",
              "      <td>0.149020</td>\n",
              "      <td>0.341176</td>\n",
              "      <td>0.239216</td>\n",
              "      <td>0.180392</td>\n",
              "      <td>0.466667</td>\n",
              "      <td>0.376471</td>\n",
              "      <td>0.321569</td>\n",
              "      <td>0.666667</td>\n",
              "      <td>...</td>\n",
              "      <td>0.305882</td>\n",
              "      <td>0.282353</td>\n",
              "      <td>0.301961</td>\n",
              "      <td>0.313725</td>\n",
              "      <td>0.313725</td>\n",
              "      <td>0.278431</td>\n",
              "      <td>0.243137</td>\n",
              "      <td>0.305882</td>\n",
              "      <td>0.243137</td>\n",
              "      <td>0.184314</td>\n",
              "    </tr>\n",
              "  </tbody>\n",
              "</table>\n",
              "<p>5 rows × 12288 columns</p>\n",
              "</div>\n",
              "    <div class=\"colab-df-buttons\">\n",
              "\n",
              "  <div class=\"colab-df-container\">\n",
              "    <button class=\"colab-df-convert\" onclick=\"convertToInteractive('df-5280e27e-9e3d-4731-8fde-3e41b8c916cb')\"\n",
              "            title=\"Convert this dataframe to an interactive table.\"\n",
              "            style=\"display:none;\">\n",
              "\n",
              "  <svg xmlns=\"http://www.w3.org/2000/svg\" height=\"24px\" viewBox=\"0 -960 960 960\">\n",
              "    <path d=\"M120-120v-720h720v720H120Zm60-500h600v-160H180v160Zm220 220h160v-160H400v160Zm0 220h160v-160H400v160ZM180-400h160v-160H180v160Zm440 0h160v-160H620v160ZM180-180h160v-160H180v160Zm440 0h160v-160H620v160Z\"/>\n",
              "  </svg>\n",
              "    </button>\n",
              "\n",
              "  <style>\n",
              "    .colab-df-container {\n",
              "      display:flex;\n",
              "      gap: 12px;\n",
              "    }\n",
              "\n",
              "    .colab-df-convert {\n",
              "      background-color: #E8F0FE;\n",
              "      border: none;\n",
              "      border-radius: 50%;\n",
              "      cursor: pointer;\n",
              "      display: none;\n",
              "      fill: #1967D2;\n",
              "      height: 32px;\n",
              "      padding: 0 0 0 0;\n",
              "      width: 32px;\n",
              "    }\n",
              "\n",
              "    .colab-df-convert:hover {\n",
              "      background-color: #E2EBFA;\n",
              "      box-shadow: 0px 1px 2px rgba(60, 64, 67, 0.3), 0px 1px 3px 1px rgba(60, 64, 67, 0.15);\n",
              "      fill: #174EA6;\n",
              "    }\n",
              "\n",
              "    .colab-df-buttons div {\n",
              "      margin-bottom: 4px;\n",
              "    }\n",
              "\n",
              "    [theme=dark] .colab-df-convert {\n",
              "      background-color: #3B4455;\n",
              "      fill: #D2E3FC;\n",
              "    }\n",
              "\n",
              "    [theme=dark] .colab-df-convert:hover {\n",
              "      background-color: #434B5C;\n",
              "      box-shadow: 0px 1px 3px 1px rgba(0, 0, 0, 0.15);\n",
              "      filter: drop-shadow(0px 1px 2px rgba(0, 0, 0, 0.3));\n",
              "      fill: #FFFFFF;\n",
              "    }\n",
              "  </style>\n",
              "\n",
              "    <script>\n",
              "      const buttonEl =\n",
              "        document.querySelector('#df-5280e27e-9e3d-4731-8fde-3e41b8c916cb button.colab-df-convert');\n",
              "      buttonEl.style.display =\n",
              "        google.colab.kernel.accessAllowed ? 'block' : 'none';\n",
              "\n",
              "      async function convertToInteractive(key) {\n",
              "        const element = document.querySelector('#df-5280e27e-9e3d-4731-8fde-3e41b8c916cb');\n",
              "        const dataTable =\n",
              "          await google.colab.kernel.invokeFunction('convertToInteractive',\n",
              "                                                    [key], {});\n",
              "        if (!dataTable) return;\n",
              "\n",
              "        const docLinkHtml = 'Like what you see? Visit the ' +\n",
              "          '<a target=\"_blank\" href=https://colab.research.google.com/notebooks/data_table.ipynb>data table notebook</a>'\n",
              "          + ' to learn more about interactive tables.';\n",
              "        element.innerHTML = '';\n",
              "        dataTable['output_type'] = 'display_data';\n",
              "        await google.colab.output.renderOutput(dataTable, element);\n",
              "        const docLink = document.createElement('div');\n",
              "        docLink.innerHTML = docLinkHtml;\n",
              "        element.appendChild(docLink);\n",
              "      }\n",
              "    </script>\n",
              "  </div>\n",
              "\n",
              "\n",
              "<div id=\"df-b0865ac9-550a-4c87-a9b1-26db73e0f7cc\">\n",
              "  <button class=\"colab-df-quickchart\" onclick=\"quickchart('df-b0865ac9-550a-4c87-a9b1-26db73e0f7cc')\"\n",
              "            title=\"Suggest charts.\"\n",
              "            style=\"display:none;\">\n",
              "\n",
              "<svg xmlns=\"http://www.w3.org/2000/svg\" height=\"24px\"viewBox=\"0 0 24 24\"\n",
              "     width=\"24px\">\n",
              "    <g>\n",
              "        <path d=\"M19 3H5c-1.1 0-2 .9-2 2v14c0 1.1.9 2 2 2h14c1.1 0 2-.9 2-2V5c0-1.1-.9-2-2-2zM9 17H7v-7h2v7zm4 0h-2V7h2v10zm4 0h-2v-4h2v4z\"/>\n",
              "    </g>\n",
              "</svg>\n",
              "  </button>\n",
              "\n",
              "<style>\n",
              "  .colab-df-quickchart {\n",
              "    background-color: #E8F0FE;\n",
              "    border: none;\n",
              "    border-radius: 50%;\n",
              "    cursor: pointer;\n",
              "    display: none;\n",
              "    fill: #1967D2;\n",
              "    height: 32px;\n",
              "    padding: 0 0 0 0;\n",
              "    width: 32px;\n",
              "  }\n",
              "\n",
              "  .colab-df-quickchart:hover {\n",
              "    background-color: #E2EBFA;\n",
              "    box-shadow: 0px 1px 2px rgba(60, 64, 67, 0.3), 0px 1px 3px 1px rgba(60, 64, 67, 0.15);\n",
              "    fill: #174EA6;\n",
              "  }\n",
              "\n",
              "  [theme=dark] .colab-df-quickchart {\n",
              "    background-color: #3B4455;\n",
              "    fill: #D2E3FC;\n",
              "  }\n",
              "\n",
              "  [theme=dark] .colab-df-quickchart:hover {\n",
              "    background-color: #434B5C;\n",
              "    box-shadow: 0px 1px 3px 1px rgba(0, 0, 0, 0.15);\n",
              "    filter: drop-shadow(0px 1px 2px rgba(0, 0, 0, 0.3));\n",
              "    fill: #FFFFFF;\n",
              "  }\n",
              "</style>\n",
              "\n",
              "  <script>\n",
              "    async function quickchart(key) {\n",
              "      const charts = await google.colab.kernel.invokeFunction(\n",
              "          'suggestCharts', [key], {});\n",
              "    }\n",
              "    (() => {\n",
              "      let quickchartButtonEl =\n",
              "        document.querySelector('#df-b0865ac9-550a-4c87-a9b1-26db73e0f7cc button');\n",
              "      quickchartButtonEl.style.display =\n",
              "        google.colab.kernel.accessAllowed ? 'block' : 'none';\n",
              "    })();\n",
              "  </script>\n",
              "</div>\n",
              "    </div>\n",
              "  </div>\n"
            ]
          },
          "metadata": {},
          "execution_count": 20
        }
      ]
    },
    {
      "cell_type": "code",
      "source": [
        "model = linear_model.LogisticRegression(C=1, fit_intercept=True,solver='lbfgs', max_iter=1000)\n",
        "model = model.fit(X_train_norm, y_train)\n",
        "\n",
        "y_predict = model.predict(X_test_norm)\n",
        "\n",
        "acc_training = np.mean(y_train == model.predict(X_train_norm))*100\n",
        "acc_testing = np.mean(y_test == y_predict)*100\n",
        "print(\"Training accuracy (%) =\", acc_training)\n",
        "print(\"Testing accuracy (%) =\", acc_testing)"
      ],
      "metadata": {
        "id": "D0Azft8zlq94",
        "colab": {
          "base_uri": "https://localhost:8080/"
        },
        "outputId": "417ea0fb-0bb2-4917-aa15-95050ff5e1a9"
      },
      "execution_count": null,
      "outputs": [
        {
          "output_type": "stream",
          "name": "stdout",
          "text": [
            "Training accuracy (%) = 100.0\n",
            "Testing accuracy (%) = 46.400000000000006\n"
          ]
        },
        {
          "output_type": "stream",
          "name": "stderr",
          "text": [
            "/usr/local/lib/python3.10/dist-packages/sklearn/linear_model/_logistic.py:458: ConvergenceWarning: lbfgs failed to converge (status=1):\n",
            "STOP: TOTAL NO. of ITERATIONS REACHED LIMIT.\n",
            "\n",
            "Increase the number of iterations (max_iter) or scale the data as shown in:\n",
            "    https://scikit-learn.org/stable/modules/preprocessing.html\n",
            "Please also refer to the documentation for alternative solver options:\n",
            "    https://scikit-learn.org/stable/modules/linear_model.html#logistic-regression\n",
            "  n_iter_i = _check_optimize_result(\n"
          ]
        }
      ]
    },
    {
      "cell_type": "code",
      "source": [
        "#confusion matrix\n",
        "\n",
        "cnf_matrix=confusion_matrix(y_test,y_predict)\n",
        "plot_confusion_matrix(conf_mat=cnf_matrix,show_absolute=True,\n",
        "                                show_normed=True,\n",
        "                                colorbar=True)\n",
        "plt.show()"
      ],
      "metadata": {
        "id": "svVRgodylrAQ",
        "colab": {
          "base_uri": "https://localhost:8080/",
          "height": 455
        },
        "outputId": "1af2b289-a2e6-4d79-ab29-1b2594e70356"
      },
      "execution_count": null,
      "outputs": [
        {
          "output_type": "display_data",
          "data": {
            "text/plain": [
              "<Figure size 640x480 with 2 Axes>"
            ],
            "image/png": "[encoded data removed]"
          },
          "metadata": {}
        }
      ]
    },
    {
      "cell_type": "code",
      "source": [
        "def calc(cnf_matrix):\n",
        "\n",
        "  FP = cnf_matrix.sum(axis=0) - np.diag(cnf_matrix)  #summing up the column values of the confusion matrix and subtracting the corresponding diagonal value (True Positives) for each class\n",
        "  FN = cnf_matrix.sum(axis=1) - np.diag(cnf_matrix)  # summing up the row values of the confusion matrix and subtracting the corresponding diagonal value (True Positives) for each class.\n",
        "  TP = np.diag(cnf_matrix)\n",
        "  TN = cnf_matrix.sum() - (FP + FN + TP)\n",
        "\n",
        "  FP = FP.astype(float)\n",
        "  FN = FN.astype(float)\n",
        "  TP = TP.astype(float)\n",
        "  TN = TN.astype(float)\n",
        "\n",
        "  # Sensitivity, hit rate, recall, or true positive rate\n",
        "  TPR = TP/(TP+FN)\n",
        "\n",
        "  # Specificity or true negative rate\n",
        "  TNR = TN/(TN+FP)\n",
        "\n",
        "  # Precision or positive predictive value\n",
        "  PPV = TP/(TP+FP)\n",
        "\n",
        "  # Negative predictive value\n",
        "  NPV = TN/(TN+FN)\n",
        "\n",
        "  # F1 Score\n",
        "  F1 = 2*((PPV)*(TPR)/(PPV + TPR))\n",
        "\n",
        "  return TPR, TNR, PPV, NPV, F1\n",
        "\n",
        "TPR, TNR, PPV, NPV, F1= calc(cnf_matrix)\n",
        "print(TPR, TNR, PPV, NPV, F1)"
      ],
      "metadata": {
        "id": "bGFIxhdUlrCy",
        "colab": {
          "base_uri": "https://localhost:8080/"
        },
        "outputId": "c71cad11-ef75-4a95-d590-cbd568f4508c"
      },
      "execution_count": null,
      "outputs": [
        {
          "output_type": "stream",
          "name": "stdout",
          "text": [
            "[0.36 0.44 0.7  0.54 0.28] [0.885 0.785 0.905 0.89  0.865] [0.43902439 0.33846154 0.64814815 0.55102041 0.34146341] [0.84688995 0.84864865 0.92346939 0.88557214 0.8277512 ] [0.3956044  0.3826087  0.67307692 0.54545455 0.30769231]\n"
          ]
        }
      ]
    },
    {
      "cell_type": "code",
      "source": [
        "first = []\n",
        "second = []\n",
        "third = []\n",
        "fourth = []\n",
        "fifth = []\n",
        "t=[]\n",
        "\n",
        "t_ML2=[]\n",
        "t_ML2_v2=[]\n",
        "\n",
        "\n",
        "def formTable(a):\n",
        "\n",
        "  for i in range(len(a)):\n",
        "    if i == 0:\n",
        "      first.append(round(a[i],2))\n",
        "    if i == 1:\n",
        "      second.append(round(a[i],2))\n",
        "    if i == 2:\n",
        "      third.append(round(a[i],2))\n",
        "    if i == 3:\n",
        "      fourth.append(round(a[i],2))\n",
        "    if i == 4:\n",
        "      fifth.append(round(a[i],2))\n",
        "\n",
        "formTable(TPR)\n",
        "formTable(TNR)\n",
        "formTable(PPV)\n",
        "formTable(NPV)\n",
        "formTable(F1)\n",
        "\n",
        "t.append(first)\n",
        "t.append(second)\n",
        "t.append(third)\n",
        "t.append(fourth)\n",
        "t.append(fifth)\n",
        "print(t)"
      ],
      "metadata": {
        "id": "8BfGJTSlcwG_",
        "colab": {
          "base_uri": "https://localhost:8080/"
        },
        "outputId": "d4795df8-c540-4f7a-d149-696a9682b57c"
      },
      "execution_count": null,
      "outputs": [
        {
          "output_type": "stream",
          "name": "stdout",
          "text": [
            "[[0.36, 0.88, 0.44, 0.85, 0.4], [0.44, 0.78, 0.34, 0.85, 0.38], [0.7, 0.9, 0.65, 0.92, 0.67], [0.54, 0.89, 0.55, 0.89, 0.55], [0.28, 0.86, 0.34, 0.83, 0.31]]\n"
          ]
        }
      ]
    },
    {
      "cell_type": "code",
      "source": [
        "\n",
        "slst=[]\n",
        "slst_ML2=[]\n",
        "slst_ML2_t6 =[]\n",
        "def formt(t):\n",
        "  s0=0\n",
        "  s1=0\n",
        "  s2=0\n",
        "  s3=0\n",
        "  s4=0\n",
        "\n",
        "\n",
        "  for i in range(len(t)+1):\n",
        "    for j in range(len(t)):\n",
        "      if i!=0:\n",
        "        break\n",
        "      else:\n",
        "        s0+= t[j][i]\n",
        "      avg_s0 = s0/len(t)\n",
        "    for j in range(len(t)):\n",
        "      if i!=1:\n",
        "        break\n",
        "      else:\n",
        "        s1+= t[j][i]\n",
        "      avg_s1 = s1/len(t)\n",
        "    for j in range(len(t)):\n",
        "      if i!=2:\n",
        "        break\n",
        "      else:\n",
        "        s2+= t[j][i]\n",
        "      avg_s2 = s2/len(t)\n",
        "    for j in range(len(t)):\n",
        "      if i!=3:\n",
        "        break\n",
        "      else:\n",
        "        s3+= t[j][i]\n",
        "      avg_s3 = s3/len(t)\n",
        "    for j in range(len(t)):\n",
        "      if i!=4:\n",
        "        break\n",
        "      else:\n",
        "        s4+= t[j][i]\n",
        "      avg_s4 = s4/len(t)\n",
        "\n",
        "  slst.append(round(avg_s0,2))\n",
        "  slst.append(round(avg_s1,2))\n",
        "  slst.append(round(avg_s2,2))\n",
        "  slst.append(round(avg_s3,2))\n",
        "  slst.append(round(avg_s4,2))\n",
        "  # print(slst)\n",
        "  t.append(slst)\n",
        "  return t\n",
        "formt(t)"
      ],
      "metadata": {
        "id": "HIGm_tr0cwJu",
        "colab": {
          "base_uri": "https://localhost:8080/"
        },
        "outputId": "9d27ac5f-1a23-4320-f364-a5fc390a5a3e"
      },
      "execution_count": null,
      "outputs": [
        {
          "output_type": "execute_result",
          "data": {
            "text/plain": [
              "[[0.36, 0.88, 0.44, 0.85, 0.4],\n",
              " [0.44, 0.78, 0.34, 0.85, 0.38],\n",
              " [0.7, 0.9, 0.65, 0.92, 0.67],\n",
              " [0.54, 0.89, 0.55, 0.89, 0.55],\n",
              " [0.28, 0.86, 0.34, 0.83, 0.31],\n",
              " [0.46, 0.86, 0.46, 0.87, 0.46]]"
            ]
          },
          "metadata": {},
          "execution_count": 25
        }
      ]
    },
    {
      "cell_type": "code",
      "source": [
        "df = pd.DataFrame(t, columns = ['Sensitivity', 'Specificity', 'PPV', 'NPV', 'F1 Score'], index=['0', '1', '2', '3', '4','avg'])\n",
        "print(df)"
      ],
      "metadata": {
        "id": "RTBMQ9D3cwMx",
        "colab": {
          "base_uri": "https://localhost:8080/"
        },
        "outputId": "d946bb61-3d6a-4c60-f7cd-d9ebd8185db2"
      },
      "execution_count": null,
      "outputs": [
        {
          "output_type": "stream",
          "name": "stdout",
          "text": [
            "     Sensitivity  Specificity   PPV   NPV  F1 Score\n",
            "0           0.36         0.88  0.44  0.85      0.40\n",
            "1           0.44         0.78  0.34  0.85      0.38\n",
            "2           0.70         0.90  0.65  0.92      0.67\n",
            "3           0.54         0.89  0.55  0.89      0.55\n",
            "4           0.28         0.86  0.34  0.83      0.31\n",
            "avg         0.46         0.86  0.46  0.87      0.46\n"
          ]
        }
      ]
    },
    {
      "cell_type": "markdown",
      "source": [
        "Neural Network"
      ],
      "metadata": {
        "id": "XQTlR1opfXGQ"
      }
    },
    {
      "cell_type": "code",
      "source": [
        "from tensorflow.keras.models import Sequential\n",
        "from tensorflow.keras.layers import Input, Dense\n",
        "from tensorflow.keras.datasets import mnist\n",
        "from tensorflow.keras.utils import to_categorical, plot_model"
      ],
      "metadata": {
        "id": "aKh9en_JcwPS"
      },
      "execution_count": null,
      "outputs": []
    },
    {
      "cell_type": "code",
      "source": [
        "# Flatten the inputs\n",
        "X_train_norm = X_train_norm.reshape(X_train_norm.shape[0], -1)\n",
        "X_test_norm = X_test_norm.reshape(X_test_norm.shape[0], -1)"
      ],
      "metadata": {
        "id": "_H9nODPmcwSG"
      },
      "execution_count": null,
      "outputs": []
    },
    {
      "cell_type": "code",
      "source": [
        "# Convert the target to one-hot encoding\n",
        "number_of_classes = 5\n",
        "y_train = to_categorical(y_train, num_classes=number_of_classes)\n",
        "y_test = to_categorical(y_test, num_classes=number_of_classes)\n",
        "\n",
        "\n",
        "print(\"shape of X =\", X_train_norm.shape)\n",
        "print(\"shape of y =\", y_train.shape)"
      ],
      "metadata": {
        "id": "hxJGrgG6cwUr",
        "colab": {
          "base_uri": "https://localhost:8080/"
        },
        "outputId": "86acb395-c6b3-45f7-f195-bf9cb7c95801"
      },
      "execution_count": null,
      "outputs": [
        {
          "output_type": "stream",
          "name": "stdout",
          "text": [
            "shape of X = (2150, 12288)\n",
            "shape of y = (2150, 5)\n"
          ]
        }
      ]
    },
    {
      "cell_type": "code",
      "source": [
        "model = Sequential()\n",
        "model.add( Input(shape = (12288,)) )\n",
        "model.add( Dense(512, activation='sigmoid') ) #hidden layer\n",
        "model.add( Dense(64, activation='sigmoid') ) #hidden layer\n",
        "model.add( Dense(64, activation='sigmoid') ) #hidden layer\n",
        "model.add( Dense(number_of_classes, activation='softmax') ) #output layer, activation must be softmax"
      ],
      "metadata": {
        "id": "AYejlRCfcwXT"
      },
      "execution_count": null,
      "outputs": []
    },
    {
      "cell_type": "code",
      "source": [
        "model.compile(optimizer='adam',\n",
        "              loss='categorical_crossentropy',\n",
        "              metrics=['accuracy'])"
      ],
      "metadata": {
        "id": "v5EHXPO5cwZ-"
      },
      "execution_count": null,
      "outputs": []
    },
    {
      "cell_type": "code",
      "source": [
        "plot_model(model, show_shapes=True, show_dtype=True, show_layer_names=True)"
      ],
      "metadata": {
        "id": "97eJ9TWfcwco",
        "colab": {
          "base_uri": "https://localhost:8080/",
          "height": 686
        },
        "outputId": "32b11eba-85e1-4e98-e593-5a1c632c6f31"
      },
      "execution_count": null,
      "outputs": [
        {
          "output_type": "execute_result",
          "data": {
            "image/png": "[encoded data removed]",
            "text/plain": [
              "<IPython.core.display.Image object>"
            ]
          },
          "metadata": {},
          "execution_count": 50
        }
      ]
    },
    {
      "cell_type": "code",
      "source": [
        "# Trainning the model\n",
        "# model.fit(X_train_norm, y_train, epochs=200, verbose=1)"
      ],
      "metadata": {
        "id": "R5ZycdSAcwf4"
      },
      "execution_count": null,
      "outputs": []
    },
    {
      "cell_type": "code",
      "source": [
        "# model.fit(X_train_norm, y_train, epochs=190, verbose=1)"
      ],
      "metadata": {
        "id": "evP39_dm_9ok"
      },
      "execution_count": null,
      "outputs": []
    },
    {
      "cell_type": "code",
      "source": [
        "model.fit(X_train_norm, y_train, epochs=70, verbose=1)"
      ],
      "metadata": {
        "colab": {
          "base_uri": "https://localhost:8080/"
        },
        "id": "EVKqBpHnD_yK",
        "outputId": "4cc990aa-d7a2-4236-aeed-78a07ed66dee"
      },
      "execution_count": null,
      "outputs": [
        {
          "output_type": "stream",
          "name": "stdout",
          "text": [
            "Epoch 1/70\n",
            "68/68 [==============================] - 5s 77ms/step - loss: 0.7501 - accuracy: 0.7228\n",
            "Epoch 2/70\n",
            "68/68 [==============================] - 6s 89ms/step - loss: 0.7500 - accuracy: 0.7288\n",
            "Epoch 3/70\n",
            "68/68 [==============================] - 5s 76ms/step - loss: 0.7485 - accuracy: 0.7209\n",
            "Epoch 4/70\n",
            "68/68 [==============================] - 5s 79ms/step - loss: 0.7352 - accuracy: 0.7335\n",
            "Epoch 5/70\n",
            "68/68 [==============================] - 6s 84ms/step - loss: 0.7495 - accuracy: 0.7214\n",
            "Epoch 6/70\n",
            "68/68 [==============================] - 5s 75ms/step - loss: 0.7653 - accuracy: 0.7144\n",
            "Epoch 7/70\n",
            "68/68 [==============================] - 7s 102ms/step - loss: 0.7806 - accuracy: 0.6991\n",
            "Epoch 8/70\n",
            "68/68 [==============================] - 6s 84ms/step - loss: 0.7544 - accuracy: 0.7181\n",
            "Epoch 9/70\n",
            "68/68 [==============================] - 6s 86ms/step - loss: 0.7165 - accuracy: 0.7395\n",
            "Epoch 10/70\n",
            "68/68 [==============================] - 5s 72ms/step - loss: 0.7184 - accuracy: 0.7400\n",
            "Epoch 11/70\n",
            "68/68 [==============================] - 6s 85ms/step - loss: 0.7244 - accuracy: 0.7344\n",
            "Epoch 12/70\n",
            "68/68 [==============================] - 5s 72ms/step - loss: 0.7010 - accuracy: 0.7349\n",
            "Epoch 13/70\n",
            "68/68 [==============================] - 6s 82ms/step - loss: 0.7270 - accuracy: 0.7288\n",
            "Epoch 14/70\n",
            "68/68 [==============================] - 6s 88ms/step - loss: 0.7105 - accuracy: 0.7437\n",
            "Epoch 15/70\n",
            "68/68 [==============================] - 5s 77ms/step - loss: 0.7198 - accuracy: 0.7414\n",
            "Epoch 16/70\n",
            "68/68 [==============================] - 9s 133ms/step - loss: 0.6993 - accuracy: 0.7479\n",
            "Epoch 17/70\n",
            "68/68 [==============================] - 9s 139ms/step - loss: 0.7520 - accuracy: 0.7279\n",
            "Epoch 18/70\n",
            "68/68 [==============================] - 6s 83ms/step - loss: 0.6944 - accuracy: 0.7479\n",
            "Epoch 19/70\n",
            "68/68 [==============================] - 6s 92ms/step - loss: 0.6883 - accuracy: 0.7526\n",
            "Epoch 20/70\n",
            "68/68 [==============================] - 13s 194ms/step - loss: 0.7052 - accuracy: 0.7377\n",
            "Epoch 21/70\n",
            "68/68 [==============================] - 5s 77ms/step - loss: 0.6759 - accuracy: 0.7614\n",
            "Epoch 22/70\n",
            "68/68 [==============================] - 5s 79ms/step - loss: 0.6976 - accuracy: 0.7428\n",
            "Epoch 23/70\n",
            "68/68 [==============================] - 5s 78ms/step - loss: 0.6539 - accuracy: 0.7586\n",
            "Epoch 24/70\n",
            "68/68 [==============================] - 5s 71ms/step - loss: 0.6629 - accuracy: 0.7693\n",
            "Epoch 25/70\n",
            "68/68 [==============================] - 6s 90ms/step - loss: 0.7003 - accuracy: 0.7498\n",
            "Epoch 26/70\n",
            "68/68 [==============================] - 5s 77ms/step - loss: 0.6800 - accuracy: 0.7535\n",
            "Epoch 27/70\n",
            "68/68 [==============================] - 6s 90ms/step - loss: 0.6405 - accuracy: 0.7712\n",
            "Epoch 28/70\n",
            "68/68 [==============================] - 5s 76ms/step - loss: 0.7202 - accuracy: 0.7386\n",
            "Epoch 29/70\n",
            "68/68 [==============================] - 6s 86ms/step - loss: 0.7118 - accuracy: 0.7465\n",
            "Epoch 30/70\n",
            "68/68 [==============================] - 6s 92ms/step - loss: 0.6294 - accuracy: 0.7767\n",
            "Epoch 31/70\n",
            "68/68 [==============================] - 6s 83ms/step - loss: 0.6189 - accuracy: 0.7860\n",
            "Epoch 32/70\n",
            "68/68 [==============================] - 6s 82ms/step - loss: 0.6105 - accuracy: 0.7884\n",
            "Epoch 33/70\n",
            "68/68 [==============================] - 6s 83ms/step - loss: 0.5973 - accuracy: 0.7916\n",
            "Epoch 34/70\n",
            "68/68 [==============================] - 6s 89ms/step - loss: 0.6343 - accuracy: 0.7772\n",
            "Epoch 35/70\n",
            "68/68 [==============================] - 5s 70ms/step - loss: 0.6150 - accuracy: 0.7851\n",
            "Epoch 36/70\n",
            "68/68 [==============================] - 6s 91ms/step - loss: 0.6309 - accuracy: 0.7740\n",
            "Epoch 37/70\n",
            "68/68 [==============================] - 5s 76ms/step - loss: 0.7640 - accuracy: 0.7423\n",
            "Epoch 38/70\n",
            "68/68 [==============================] - 6s 88ms/step - loss: 0.7435 - accuracy: 0.7474\n",
            "Epoch 39/70\n",
            "68/68 [==============================] - 5s 77ms/step - loss: 0.7739 - accuracy: 0.7302\n",
            "Epoch 40/70\n",
            "68/68 [==============================] - 5s 77ms/step - loss: 0.6861 - accuracy: 0.7744\n",
            "Epoch 41/70\n",
            "68/68 [==============================] - 6s 88ms/step - loss: 0.6949 - accuracy: 0.7693\n",
            "Epoch 42/70\n",
            "68/68 [==============================] - 5s 76ms/step - loss: 0.6942 - accuracy: 0.7721\n",
            "Epoch 43/70\n",
            "68/68 [==============================] - 6s 90ms/step - loss: 0.7122 - accuracy: 0.7479\n",
            "Epoch 44/70\n",
            "68/68 [==============================] - 5s 76ms/step - loss: 0.6907 - accuracy: 0.7707\n",
            "Epoch 45/70\n",
            "68/68 [==============================] - 6s 91ms/step - loss: 0.6651 - accuracy: 0.7851\n",
            "Epoch 46/70\n",
            "68/68 [==============================] - 5s 77ms/step - loss: 0.6620 - accuracy: 0.7805\n",
            "Epoch 47/70\n",
            "68/68 [==============================] - 6s 87ms/step - loss: 0.6647 - accuracy: 0.7786\n",
            "Epoch 48/70\n",
            "68/68 [==============================] - 5s 80ms/step - loss: 0.6574 - accuracy: 0.7856\n",
            "Epoch 49/70\n",
            "68/68 [==============================] - 5s 76ms/step - loss: 0.6461 - accuracy: 0.7940\n",
            "Epoch 50/70\n",
            "68/68 [==============================] - 6s 90ms/step - loss: 0.6631 - accuracy: 0.7809\n",
            "Epoch 51/70\n",
            "68/68 [==============================] - 5s 77ms/step - loss: 0.6540 - accuracy: 0.7847\n",
            "Epoch 52/70\n",
            "68/68 [==============================] - 6s 93ms/step - loss: 0.6404 - accuracy: 0.7944\n",
            "Epoch 53/70\n",
            "68/68 [==============================] - 5s 73ms/step - loss: 0.6298 - accuracy: 0.7991\n",
            "Epoch 54/70\n",
            "68/68 [==============================] - 6s 84ms/step - loss: 0.6681 - accuracy: 0.7777\n",
            "Epoch 55/70\n",
            "68/68 [==============================] - 5s 77ms/step - loss: 0.6973 - accuracy: 0.7679\n",
            "Epoch 56/70\n",
            "68/68 [==============================] - 5s 80ms/step - loss: 0.6435 - accuracy: 0.7902\n",
            "Epoch 57/70\n",
            "68/68 [==============================] - 6s 87ms/step - loss: 0.6211 - accuracy: 0.8065\n",
            "Epoch 58/70\n",
            "68/68 [==============================] - 5s 77ms/step - loss: 0.6551 - accuracy: 0.7921\n",
            "Epoch 59/70\n",
            "68/68 [==============================] - 6s 91ms/step - loss: 0.6250 - accuracy: 0.8014\n",
            "Epoch 60/70\n",
            "68/68 [==============================] - 5s 77ms/step - loss: 0.6522 - accuracy: 0.7842\n",
            "Epoch 61/70\n",
            "68/68 [==============================] - 6s 92ms/step - loss: 0.6163 - accuracy: 0.8060\n",
            "Epoch 62/70\n",
            "68/68 [==============================] - 5s 78ms/step - loss: 0.5944 - accuracy: 0.8084\n",
            "Epoch 63/70\n",
            "68/68 [==============================] - 6s 93ms/step - loss: 0.6560 - accuracy: 0.7837\n",
            "Epoch 64/70\n",
            "68/68 [==============================] - 5s 77ms/step - loss: 0.6358 - accuracy: 0.7977\n",
            "Epoch 65/70\n",
            "68/68 [==============================] - 6s 83ms/step - loss: 0.6250 - accuracy: 0.8056\n",
            "Epoch 66/70\n",
            "68/68 [==============================] - 6s 85ms/step - loss: 0.6002 - accuracy: 0.8107\n",
            "Epoch 67/70\n",
            "68/68 [==============================] - 5s 76ms/step - loss: 0.5852 - accuracy: 0.8093\n",
            "Epoch 68/70\n",
            "68/68 [==============================] - 6s 91ms/step - loss: 0.5982 - accuracy: 0.8060\n",
            "Epoch 69/70\n",
            "68/68 [==============================] - 5s 76ms/step - loss: 0.6325 - accuracy: 0.8056\n",
            "Epoch 70/70\n",
            "68/68 [==============================] - 6s 92ms/step - loss: 0.6579 - accuracy: 0.7874\n"
          ]
        },
        {
          "output_type": "execute_result",
          "data": {
            "text/plain": [
              "<keras.callbacks.History at 0x7dc2357020e0>"
            ]
          },
          "metadata": {},
          "execution_count": 78
        }
      ]
    },
    {
      "cell_type": "code",
      "source": [
        "y_pred = model.predict(X_test_norm)\n"
      ],
      "metadata": {
        "id": "5mNFY45jfqoZ",
        "colab": {
          "base_uri": "https://localhost:8080/"
        },
        "outputId": "5373e88a-243d-4ff9-e955-7314e692eddd"
      },
      "execution_count": null,
      "outputs": [
        {
          "output_type": "stream",
          "name": "stdout",
          "text": [
            "8/8 [==============================] - 0s 13ms/step\n"
          ]
        }
      ]
    },
    {
      "cell_type": "code",
      "source": [
        "y_predicted = np.argmax(y_pred, axis=1)"
      ],
      "metadata": {
        "id": "BfxODcjlfqq2"
      },
      "execution_count": null,
      "outputs": []
    },
    {
      "cell_type": "code",
      "source": [
        "y_actual = np.argmax(y_test, axis=1)\n",
        "print(y_actual)"
      ],
      "metadata": {
        "id": "nTgJyDbSfqtt",
        "colab": {
          "base_uri": "https://localhost:8080/"
        },
        "outputId": "86ed63ec-da7c-4d18-ec46-f833d2024989"
      },
      "execution_count": null,
      "outputs": [
        {
          "output_type": "stream",
          "name": "stdout",
          "text": [
            "[1 1 1 1 1 1 1 1 1 1 1 1 1 1 1 1 1 1 1 1 1 1 1 1 1 1 1 1 1 1 1 1 1 1 1 1 1\n",
            " 1 1 1 1 1 1 1 1 1 1 1 1 1 0 0 0 0 0 0 0 0 0 0 0 0 0 0 0 0 0 0 0 0 0 0 0 0\n",
            " 0 0 0 0 0 0 0 0 0 0 0 0 0 0 0 0 0 0 0 0 0 0 0 0 0 0 2 2 2 2 2 2 2 2 2 2 2\n",
            " 2 2 2 2 2 2 2 2 2 2 2 2 2 2 2 2 2 2 2 2 2 2 2 2 2 2 2 2 2 2 2 2 2 2 2 2 2\n",
            " 2 2 3 3 3 3 3 3 3 3 3 3 3 3 3 3 3 3 3 3 3 3 3 3 3 3 3 3 3 3 3 3 3 3 3 3 3\n",
            " 3 3 3 3 3 3 3 3 3 3 3 3 3 3 3 4 4 4 4 4 4 4 4 4 4 4 4 4 4 4 4 4 4 4 4 4 4\n",
            " 4 4 4 4 4 4 4 4 4 4 4 4 4 4 4 4 4 4 4 4 4 4 4 4 4 4 4 4]\n"
          ]
        }
      ]
    },
    {
      "cell_type": "code",
      "source": [
        "nn_testing = np.mean(y_actual == y_predicted)*100\n",
        "print(\"Testing accuracy (%) =\", nn_testing)"
      ],
      "metadata": {
        "id": "jl1fNGXufqwK",
        "colab": {
          "base_uri": "https://localhost:8080/"
        },
        "outputId": "c2cd3dcf-5cb9-4c0c-fb72-c7bafcaa5312"
      },
      "execution_count": null,
      "outputs": [
        {
          "output_type": "stream",
          "name": "stdout",
          "text": [
            "Testing accuracy (%) = 41.6\n"
          ]
        }
      ]
    },
    {
      "cell_type": "code",
      "source": [
        "# loss_test, pred_test = model.evaluate(X_test_norm, y_test)\n",
        "test_loss, test_acc = model.evaluate(X_test_norm, y_test)\n",
        "print(\"Testing accuracy (%) =\", test_acc)"
      ],
      "metadata": {
        "id": "G4qI8C5jfqyz",
        "colab": {
          "base_uri": "https://localhost:8080/"
        },
        "outputId": "c9dd31f5-be00-476b-e52c-bc75e2daa957"
      },
      "execution_count": null,
      "outputs": [
        {
          "output_type": "stream",
          "name": "stdout",
          "text": [
            "8/8 [==============================] - 0s 13ms/step - loss: 1.7676 - accuracy: 0.4160\n",
            "Testing accuracy (%) = 0.41600000858306885\n"
          ]
        }
      ]
    },
    {
      "cell_type": "code",
      "source": [
        "cnf_matrix_ML2=confusion_matrix(y_actual,y_predicted)\n",
        "plot_confusion_matrix(conf_mat=cnf_matrix_ML2,show_absolute=True,\n",
        "                                show_normed=True,\n",
        "                                colorbar=True)\n",
        "plt.show()"
      ],
      "metadata": {
        "id": "N4MIf4Mofq1f",
        "colab": {
          "base_uri": "https://localhost:8080/",
          "height": 449
        },
        "outputId": "1d946d04-87f7-45e3-d088-f0941d60e972"
      },
      "execution_count": null,
      "outputs": [
        {
          "output_type": "display_data",
          "data": {
            "text/plain": [
              "<Figure size 640x480 with 2 Axes>"
            ],
            "image/png": "[encoded data removed]"
          },
          "metadata": {}
        }
      ]
    },
    {
      "cell_type": "code",
      "source": [
        "TPR_ML2, TNR_ML2, PPV_ML2, NPV_ML2, F1_ML2= calc(cnf_matrix_ML2)"
      ],
      "metadata": {
        "id": "UaweYi9gfq5J"
      },
      "execution_count": null,
      "outputs": []
    },
    {
      "cell_type": "code",
      "source": [
        "first = []\n",
        "second = []\n",
        "third = []\n",
        "fourth = []\n",
        "fifth = []\n",
        "\n",
        "\n",
        "formTable(TPR_ML2)\n",
        "formTable(TNR_ML2)\n",
        "formTable(PPV_ML2)\n",
        "formTable(NPV_ML2)\n",
        "formTable(F1_ML2)\n",
        "\n",
        "t_ML2.append(first)\n",
        "t_ML2.append(second)\n",
        "t_ML2.append(third)\n",
        "t_ML2.append(fourth)\n",
        "t_ML2.append(fifth)"
      ],
      "metadata": {
        "id": "1c63BLSIgDXl"
      },
      "execution_count": null,
      "outputs": []
    },
    {
      "cell_type": "code",
      "source": [
        "slst=[]\n",
        "formt(t_ML2)"
      ],
      "metadata": {
        "id": "G4qcWyUJgDaX",
        "colab": {
          "base_uri": "https://localhost:8080/"
        },
        "outputId": "d4dc891c-c0cd-4dc0-abf4-4797605f50a1"
      },
      "execution_count": null,
      "outputs": [
        {
          "output_type": "execute_result",
          "data": {
            "text/plain": [
              "[[0.1, 0.88, 0.17, 0.8, 0.13],\n",
              " [0.52, 0.78, 0.37, 0.87, 0.43],\n",
              " [0.62, 0.94, 0.7, 0.91, 0.66],\n",
              " [0.56, 0.74, 0.35, 0.87, 0.43],\n",
              " [0.28, 0.94, 0.54, 0.84, 0.37],\n",
              " [0.42, 0.86, 0.43, 0.86, 0.4]]"
            ]
          },
          "metadata": {},
          "execution_count": 91
        }
      ]
    },
    {
      "cell_type": "code",
      "source": [
        "df_ML2 = pd.DataFrame(t_ML2, columns = ['Sensitivity', 'Specificity', 'PPV', 'NPV', 'F1 Score'], index=['0', '1', '2', '3', '4','avg'])\n",
        "print(df_ML2)"
      ],
      "metadata": {
        "id": "qBMaPZyvgDcu",
        "colab": {
          "base_uri": "https://localhost:8080/"
        },
        "outputId": "77d55c78-abfb-4cab-d56e-5d05d9b4fdef"
      },
      "execution_count": null,
      "outputs": [
        {
          "output_type": "stream",
          "name": "stdout",
          "text": [
            "     Sensitivity  Specificity   PPV   NPV  F1 Score\n",
            "0           0.10         0.88  0.17  0.80      0.13\n",
            "1           0.52         0.78  0.37  0.87      0.43\n",
            "2           0.62         0.94  0.70  0.91      0.66\n",
            "3           0.56         0.74  0.35  0.87      0.43\n",
            "4           0.28         0.94  0.54  0.84      0.37\n",
            "avg         0.42         0.86  0.43  0.86      0.40\n"
          ]
        }
      ]
    },
    {
      "cell_type": "markdown",
      "source": [
        "Comparison"
      ],
      "metadata": {
        "id": "n9V0dz7gv-Km"
      }
    },
    {
      "cell_type": "code",
      "source": [
        "pip install matplotlib"
      ],
      "metadata": {
        "id": "QV0QC7Ry0238",
        "colab": {
          "base_uri": "https://localhost:8080/"
        },
        "outputId": "098e430e-b8c6-4aed-fcdc-63dfe313f89d"
      },
      "execution_count": null,
      "outputs": [
        {
          "output_type": "stream",
          "name": "stdout",
          "text": [
            "Requirement already satisfied: matplotlib in /usr/local/lib/python3.10/dist-packages (3.7.1)\n",
            "Requirement already satisfied: contourpy>=1.0.1 in /usr/local/lib/python3.10/dist-packages (from matplotlib) (1.1.0)\n",
            "Requirement already satisfied: cycler>=0.10 in /usr/local/lib/python3.10/dist-packages (from matplotlib) (0.11.0)\n",
            "Requirement already satisfied: fonttools>=4.22.0 in /usr/local/lib/python3.10/dist-packages (from matplotlib) (4.42.0)\n",
            "Requirement already satisfied: kiwisolver>=1.0.1 in /usr/local/lib/python3.10/dist-packages (from matplotlib) (1.4.4)\n",
            "Requirement already satisfied: numpy>=1.20 in /usr/local/lib/python3.10/dist-packages (from matplotlib) (1.23.5)\n",
            "Requirement already satisfied: packaging>=20.0 in /usr/local/lib/python3.10/dist-packages (from matplotlib) (23.1)\n",
            "Requirement already satisfied: pillow>=6.2.0 in /usr/local/lib/python3.10/dist-packages (from matplotlib) (9.4.0)\n",
            "Requirement already satisfied: pyparsing>=2.3.1 in /usr/local/lib/python3.10/dist-packages (from matplotlib) (3.1.1)\n",
            "Requirement already satisfied: python-dateutil>=2.7 in /usr/local/lib/python3.10/dist-packages (from matplotlib) (2.8.2)\n",
            "Requirement already satisfied: six>=1.5 in /usr/local/lib/python3.10/dist-packages (from python-dateutil>=2.7->matplotlib) (1.16.0)\n"
          ]
        }
      ]
    },
    {
      "cell_type": "code",
      "source": [
        "import matplotlib.pyplot as plt\n",
        "\n",
        "# Example data\n",
        "categories = ['LR Train', 'LR Test', 'NN Train', 'NN Test']\n",
        "values = [acc_training, acc_testing, 88.51, nn_testing]\n",
        "\n",
        "# Bar width\n",
        "bar_width = 0.4\n",
        "\n",
        "# Create the bar chart\n",
        "plt.bar(categories, values, width=bar_width, color='blue')\n",
        "\n",
        "# Add labels and title\n",
        "plt.xlabel('Models')\n",
        "plt.ylabel('Accuracy')\n",
        "plt.title('Comparison')\n",
        "\n",
        "# Show the plot\n",
        "plt.tight_layout()\n",
        "plt.show()\n"
      ],
      "metadata": {
        "id": "Y_vmVeJHwDRO",
        "colab": {
          "base_uri": "https://localhost:8080/",
          "height": 487
        },
        "outputId": "9b1ac3fe-ef0f-4299-a0e6-cf34519222ec"
      },
      "execution_count": null,
      "outputs": [
        {
          "output_type": "display_data",
          "data": {
            "text/plain": [
              "<Figure size 640x480 with 1 Axes>"
            ],
            "image/png": "[encoded data removed]"
          },
          "metadata": {}
        }
      ]
    }
  ]
}